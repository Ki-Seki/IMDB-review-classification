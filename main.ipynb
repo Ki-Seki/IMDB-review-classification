{
 "cells": [
  {
   "cell_type": "code",
   "execution_count": null,
   "metadata": {},
   "outputs": [],
   "source": [
    "import os\n",
    "\n",
    "import numpy as np\n",
    "\n",
    "from utils.Tokenizer import Tokenizer\n",
    "\n",
    "imdb_dir = './resources/aclImdb'\n",
    "glove_dir = './resources/glove.6B'\n",
    "\n",
    "seed = 123  # Random seed\n",
    "np.random.seed(seed)"
   ]
  },
  {
   "cell_type": "code",
   "execution_count": null,
   "metadata": {},
   "outputs": [],
   "source": [
    "# Process the labels of the raw IMDB data\n",
    "\n",
    "train_dir = os.path.join(imdb_dir, 'train')\n",
    "\n",
    "labels = []\n",
    "texts = []\n",
    "\n",
    "for label_type in ['neg', 'pos']:\n",
    "    dir_name = os.path.join(train_dir, label_type)\n",
    "    for fname in os.listdir(dir_name):\n",
    "        if not fname.endswith('.txt'):\n",
    "            continue\n",
    "        with open(os.path.join(dir_name, fname)) as f:\n",
    "            texts.append(f.read())\n",
    "        labels.append(0 if label_type == 'neg' else 1)"
   ]
  },
  {
   "cell_type": "code",
   "execution_count": null,
   "metadata": {},
   "outputs": [],
   "source": [
    "# Tokenizing the text of the raw IMDB data\n",
    "\n",
    "maxlen = 100  # Max len of a seq\n",
    "max_words = 10000  # Size of the tokenizer vocabulary\n",
    "\n",
    "tokenizer = Tokenizer(max_words)\n",
    "tokenizer.fit_on_texts(texts)\n",
    "seqs = tokenizer.texts2seqs(texts, seq_len=maxlen)\n",
    "\n",
    "word_index = tokenizer.word_index\n",
    "print(f'Found {len(word_index)} unique tokens.')"
   ]
  },
  {
   "cell_type": "code",
   "execution_count": null,
   "metadata": {},
   "outputs": [],
   "source": [
    "# Train/Val Split\n",
    "\n",
    "training_samples = 200  # Thanks to GloVe, a fewer samples are enough\n",
    "validation_samples = 10000\n",
    "\n",
    "data = np.asarray(seqs)\n",
    "labels = np.asarray(labels)\n",
    "print(f'Shape of data tensor: {data.shape}')\n",
    "print(f'Shape of labels tensor: {labels.shape}')\n",
    "\n",
    "indices = np.arange(data.shape[0])\n",
    "np.random.shuffle(indices)\n",
    "data = data[indices]\n",
    "labels = labels[indices]\n",
    "\n",
    "x_train = data[:training_samples]\n",
    "y_train = labels[:training_samples]\n",
    "x_val = data[training_samples: training_samples + validation_samples]\n",
    "y_val = labels[training_samples: training_samples + validation_samples]\n",
    "\n",
    "print(f'{x_train[0]=}')"
   ]
  },
  {
   "cell_type": "code",
   "execution_count": null,
   "metadata": {},
   "outputs": [],
   "source": [
    "# Parsing the Glove word-embeddings file\n",
    "\n",
    "embedding_index = {}\n",
    "with open(os.path.join(glove_dir, 'glove.6B.100d.txt')) as f:\n",
    "    for line in f:\n",
    "        values = line.split()\n",
    "        word = values[0]\n",
    "        embedding_vector = np.asarray(values[1:], dtype='float32')\n",
    "        embedding_index[word] = embedding_vector\n",
    "print(f'Found {len(embedding_index)} word vectors.')"
   ]
  },
  {
   "cell_type": "code",
   "execution_count": null,
   "metadata": {},
   "outputs": [],
   "source": [
    "# Preparing the Glove word-embeddings matrix\n",
    "\n",
    "embedding_dim = 100\n",
    "\n",
    "embedding_matrix =np.zeros((max_words, embedding_dim))\n",
    "for word, i in word_index.items():\n",
    "    if i >= max_words:\n",
    "        # Consider the words' indices may not be ascending\n",
    "        # ! index_word[max_words] will not be taken into consideration,\n",
    "        # ! and this may raise errors\n",
    "        continue\n",
    "    embedding_vector = embedding_index.get(word, None)\n",
    "    if embedding_vector is not None:\n",
    "        embedding_matrix[i] = embedding_vector\n",
    "\n",
    "print(f'Shape of embedding matrix: {embedding_matrix.shape}')"
   ]
  },
  {
   "cell_type": "code",
   "execution_count": null,
   "metadata": {},
   "outputs": [],
   "source": [
    "# Model definition\n",
    "\n"
   ]
  }
 ],
 "metadata": {
  "kernelspec": {
   "display_name": "pt",
   "language": "python",
   "name": "python3"
  },
  "language_info": {
   "codemirror_mode": {
    "name": "ipython",
    "version": 3
   },
   "file_extension": ".py",
   "mimetype": "text/x-python",
   "name": "python",
   "nbconvert_exporter": "python",
   "pygments_lexer": "ipython3",
   "version": "3.10.9"
  },
  "orig_nbformat": 4
 },
 "nbformat": 4,
 "nbformat_minor": 2
}
